{
 "cells": [
  {
   "cell_type": "code",
   "execution_count": 35,
   "id": "8874547f",
   "metadata": {},
   "outputs": [
    {
     "name": "stdout",
     "output_type": "stream",
     "text": [
      "veillez saisir votre prenoms : Adjei Patrick\n",
      "veillez saisir votre nom : Koffi\n",
      "vous vous apellez :  Koffi adjei patrick\n"
     ]
    }
   ],
   "source": [
    "#écrire un programme qui renvoie le nom et le prenom\n",
    "prenoms = input(\"veillez saisir votre prenoms : \")\n",
    "nom = input(\"veillez saisir votre nom : \")\n",
    "print(\"vous vous apellez : \", nom, prenom)"
   ]
  },
  {
   "cell_type": "code",
   "execution_count": null,
   "id": "5587ba46",
   "metadata": {},
   "outputs": [],
   "source": []
  }
 ],
 "metadata": {
  "kernelspec": {
   "display_name": "Python 3 (ipykernel)",
   "language": "python",
   "name": "python3"
  },
  "language_info": {
   "codemirror_mode": {
    "name": "ipython",
    "version": 3
   },
   "file_extension": ".py",
   "mimetype": "text/x-python",
   "name": "python",
   "nbconvert_exporter": "python",
   "pygments_lexer": "ipython3",
   "version": "3.9.7"
  }
 },
 "nbformat": 4,
 "nbformat_minor": 5
}
